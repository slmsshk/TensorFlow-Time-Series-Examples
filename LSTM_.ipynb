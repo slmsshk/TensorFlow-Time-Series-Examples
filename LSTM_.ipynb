{
  "nbformat": 4,
  "nbformat_minor": 0,
  "metadata": {
    "colab": {
      "name": "LSTM .ipynb",
      "provenance": [],
      "collapsed_sections": [],
      "authorship_tag": "ABX9TyPO8Kckk7Zk46g2G6ZCbe/t",
      "include_colab_link": true
    },
    "kernelspec": {
      "name": "python3",
      "display_name": "Python 3"
    },
    "language_info": {
      "name": "python"
    },
    "accelerator": "TPU"
  },
  "cells": [
    {
      "cell_type": "markdown",
      "metadata": {
        "id": "view-in-github",
        "colab_type": "text"
      },
      "source": [
        "<a href=\"https://colab.research.google.com/github/slmsshk/TensorFlow-Time-Series-Examples/blob/master/LSTM_.ipynb\" target=\"_parent\"><img src=\"https://colab.research.google.com/assets/colab-badge.svg\" alt=\"Open In Colab\"/></a>"
      ]
    },
    {
      "cell_type": "markdown",
      "source": [
        "# Data"
      ],
      "metadata": {
        "id": "6gphtV-phH_4"
      }
    },
    {
      "cell_type": "code",
      "execution_count": 160,
      "metadata": {
        "id": "bykRiNyERBe2"
      },
      "outputs": [],
      "source": [
        "from tqdm import tqdm"
      ]
    },
    {
      "cell_type": "code",
      "source": [
        "data=[i for i in tqdm(range(5500000))]"
      ],
      "metadata": {
        "colab": {
          "base_uri": "https://localhost:8080/"
        },
        "id": "QtS2ZtXRRG5Q",
        "outputId": "f3a63390-80bf-41ee-893c-f4b83eb43cb5"
      },
      "execution_count": 161,
      "outputs": [
        {
          "output_type": "stream",
          "name": "stderr",
          "text": [
            "100%|██████████| 5500000/5500000 [00:01<00:00, 3426121.47it/s]\n"
          ]
        }
      ]
    },
    {
      "cell_type": "code",
      "source": [
        "n_seq=1\n",
        "predict=1"
      ],
      "metadata": {
        "id": "uv8BHrr9RI6_"
      },
      "execution_count": 162,
      "outputs": []
    },
    {
      "cell_type": "code",
      "source": [
        "def sequence_creator(data,n_seq=5,predict=2):\n",
        "  import numpy as np\n",
        "  x=[]\n",
        "  y=[]\n",
        "\n",
        "  for i in tqdm(range(len(data))):\n",
        "    last=i+n_seq\n",
        "    if last>=len(data)-1:break\n",
        "    x.append(data[i:last])\n",
        "    y.append(data[last:last+predict])\n",
        "  return np.array(x),np.array(y)"
      ],
      "metadata": {
        "id": "A3K2uNTkRKEq"
      },
      "execution_count": 163,
      "outputs": []
    },
    {
      "cell_type": "code",
      "source": [
        "x,y=sequence_creator(data,n_seq,predict)"
      ],
      "metadata": {
        "colab": {
          "base_uri": "https://localhost:8080/"
        },
        "id": "0uISdTgkRLZy",
        "outputId": "d89a7b3c-5c16-43e3-b60c-7e42afc2bd90"
      },
      "execution_count": 164,
      "outputs": [
        {
          "output_type": "stream",
          "name": "stderr",
          "text": [
            "100%|█████████▉| 5499998/5500000 [00:17<00:00, 306334.01it/s]\n"
          ]
        }
      ]
    },
    {
      "cell_type": "code",
      "source": [
        "t_data=[i for i in tqdm(range(55000,65000))]"
      ],
      "metadata": {
        "colab": {
          "base_uri": "https://localhost:8080/"
        },
        "id": "RgF-gZADddur",
        "outputId": "e91b5fdb-b1ce-45c6-ab67-08ac8f04e4df"
      },
      "execution_count": 165,
      "outputs": [
        {
          "output_type": "stream",
          "name": "stderr",
          "text": [
            "100%|██████████| 10000/10000 [00:00<00:00, 1390592.14it/s]\n"
          ]
        }
      ]
    },
    {
      "cell_type": "code",
      "source": [
        "y_test,y_label=sequence_creator(t_data,n_seq,predict)"
      ],
      "metadata": {
        "colab": {
          "base_uri": "https://localhost:8080/"
        },
        "id": "p9QVdmdVRUM7",
        "outputId": "a356ab24-f60a-474e-a351-baa60d33d408"
      },
      "execution_count": 166,
      "outputs": [
        {
          "output_type": "stream",
          "name": "stderr",
          "text": [
            "100%|█████████▉| 9998/10000 [00:00<00:00, 457267.73it/s]\n"
          ]
        }
      ]
    },
    {
      "cell_type": "markdown",
      "source": [
        "## Tensor Board\n"
      ],
      "metadata": {
        "id": "kGImmAlnhXjj"
      }
    },
    {
      "cell_type": "code",
      "source": [
        "# Clear any logs from previous runs\n",
        "!rm -rf ./logs/"
      ],
      "metadata": {
        "id": "IJTbhM9iZ7U5"
      },
      "execution_count": 167,
      "outputs": []
    },
    {
      "cell_type": "code",
      "source": [
        "import datetime\n",
        "log_dir = \"logs/fit/\" + datetime.datetime.now().strftime(\"%Y%m%d-%H%M%S\")\n",
        "tensorboard_callback = keras.callbacks.TensorBoard(log_dir=log_dir, histogram_freq=1)"
      ],
      "metadata": {
        "id": "cc9j_3BuXgQR"
      },
      "execution_count": 168,
      "outputs": []
    },
    {
      "cell_type": "markdown",
      "source": [
        "# Model"
      ],
      "metadata": {
        "id": "C9o6Wkk1hMs0"
      }
    },
    {
      "cell_type": "code",
      "source": [
        "from tensorflow import keras\n",
        "from keras.layers import Dense,LSTM,Normalization\n",
        "from keras.models import Sequential\n",
        "import numpy as np\n"
      ],
      "metadata": {
        "id": "41gu4Hh5Ub4z"
      },
      "execution_count": 169,
      "outputs": []
    },
    {
      "cell_type": "code",
      "source": [
        "lstm=Sequential()"
      ],
      "metadata": {
        "id": "TD4kcAWpUxOg"
      },
      "execution_count": 170,
      "outputs": []
    },
    {
      "cell_type": "code",
      "source": [
        "x.shape[0],x.shape[1]"
      ],
      "metadata": {
        "colab": {
          "base_uri": "https://localhost:8080/"
        },
        "id": "ELn0B1EEX0l5",
        "outputId": "c4465566-5ef1-4bb8-dbc0-09601e882928"
      },
      "execution_count": 171,
      "outputs": [
        {
          "output_type": "execute_result",
          "data": {
            "text/plain": [
              "(5499998, 1)"
            ]
          },
          "metadata": {},
          "execution_count": 171
        }
      ]
    },
    {
      "cell_type": "code",
      "source": [
        "lstm.add(LSTM(50,activation='relu', input_shape=(x.shape[1],1)))\n",
        "# lstm.add(LSTM(30,activation='relu',return_sequences=True,))\n",
        "# lstm.add(LSTM(30,activation='relu', return_sequences=True,))\n",
        "# lstm.add(LSTM(30,activation='relu',return_sequences=True,))\n",
        "# lstm.add(LSTM(30,activation='relu'))\n",
        "lstm.add(Dense(1))\n",
        "lstm._name='practise_Lstm'"
      ],
      "metadata": {
        "id": "pBbyucTCU_9b"
      },
      "execution_count": 172,
      "outputs": []
    },
    {
      "cell_type": "code",
      "source": [
        "lstm.compile(optimizer='adam',loss='mse')"
      ],
      "metadata": {
        "id": "r8DapfB-Wtnh"
      },
      "execution_count": 173,
      "outputs": []
    },
    {
      "cell_type": "code",
      "source": [
        "lstm.fit(x,y,epochs=10)"
      ],
      "metadata": {
        "colab": {
          "base_uri": "https://localhost:8080/"
        },
        "id": "48N6H2vZW7c0",
        "outputId": "eec6f79b-cf58-4321-f503-00c4dd592084"
      },
      "execution_count": null,
      "outputs": [
        {
          "output_type": "stream",
          "name": "stdout",
          "text": [
            "Epoch 1/10\n",
            "  3794/171875 [..............................] - ETA: 8:30 - loss: 397376716800.0000"
          ]
        }
      ]
    },
    {
      "cell_type": "code",
      "source": [
        "y_test"
      ],
      "metadata": {
        "id": "9DRvZBoIdtOd"
      },
      "execution_count": null,
      "outputs": []
    },
    {
      "cell_type": "code",
      "source": [
        "lstm.evaluate(y_test,y_label)"
      ],
      "metadata": {
        "id": "YhmNu9SXdp8f"
      },
      "execution_count": null,
      "outputs": []
    },
    {
      "cell_type": "markdown",
      "source": [
        "# Predict"
      ],
      "metadata": {
        "id": "l79uwuHNiEYs"
      }
    },
    {
      "cell_type": "code",
      "source": [
        "p=np.arange(900000,900001,1).reshape(1,1,1)\n",
        "p"
      ],
      "metadata": {
        "id": "RW0RxDs3YUJM"
      },
      "execution_count": null,
      "outputs": []
    },
    {
      "cell_type": "code",
      "source": [
        "lstm.predict(p)"
      ],
      "metadata": {
        "id": "3lvYXbF2gsz0"
      },
      "execution_count": null,
      "outputs": []
    },
    {
      "cell_type": "code",
      "source": [
        "lstm.summary()"
      ],
      "metadata": {
        "id": "Zi3BOz4QW53I"
      },
      "execution_count": null,
      "outputs": []
    }
  ]
}